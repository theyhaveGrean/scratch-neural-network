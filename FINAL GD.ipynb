{
 "cells": [
  {
   "cell_type": "code",
   "execution_count": 14,
   "id": "e6d0799e",
   "metadata": {},
   "outputs": [],
   "source": [
    "import matplotlib.pyplot as plt\n",
    "import numpy as np\n",
    "import random\n",
    "import math"
   ]
  },
  {
   "cell_type": "code",
   "execution_count": 15,
   "id": "67e342e2",
   "metadata": {},
   "outputs": [],
   "source": [
    "class Neuron:\n",
    "    def __init__(self, input_size):\n",
    "        self.input_size = input_size\n",
    "        \n",
    "        self.weights = []\n",
    "        for _ in range(input_size):\n",
    "            self.weights.append(random.uniform(-1, 1))\n",
    "        \n",
    "        self.bias = random.uniform(-1, 1)\n",
    "    \n",
    "    def output(self, inputs):\n",
    "        return max(0, np.dot(self.weights, inputs) + self.bias)\n",
    "        \n",
    "    \n",
    "    def nudge(self, amt_weight, amt_bias):\n",
    "        new_weights = []\n",
    "        for weight in self.weights:\n",
    "            new_weights.append(weight + amt_weight)\n",
    "        self.weights = new_weights\n",
    "        \n",
    "        new_bias = self.bias + amt_bias\n",
    "        self.bias = new_bias"
   ]
  },
  {
   "cell_type": "code",
   "execution_count": 16,
   "id": "910bb49a",
   "metadata": {},
   "outputs": [],
   "source": [
    "class Layer:\n",
    "    def __init__(self, size, input_size, name):\n",
    "        self.size = size\n",
    "        self.input_size = input_size\n",
    "        self.name = name\n",
    "        self.neurons = []\n",
    "        \n",
    "        print(f'Layer {name} | IS {self.input_size}')\n",
    "        for i in range(self.size):\n",
    "            self.neurons.append(Neuron(input_size=self.input_size))\n",
    "            print(f'Neuron {i + 1} | B {len(self.neurons[i].weights)} | B {self.neurons[i].bias}')\n",
    "        print('==========================================')\n",
    "\n",
    "    def output(self, inputs):\n",
    "        outputs = []\n",
    "        for neuron in self.neurons:\n",
    "            outputs.append(neuron.output(inputs))\n",
    "        return outputs\n",
    "    \n",
    "    def nudge(self, amt_weight, amt_bias):\n",
    "        for neuron in self.neurons:\n",
    "            neuron.nudge(amt_weight, amt_bias)\n",
    "    \n",
    "    def forward(self, layer):\n",
    "        outputs = []\n",
    "        for neuron in self.neurons:\n",
    "            outputs.append(neuron.output(self.inputs))\n",
    "        layer.inputs = outputs"
   ]
  },
  {
   "cell_type": "code",
   "execution_count": 17,
   "id": "024a754b",
   "metadata": {},
   "outputs": [],
   "source": [
    "def cost(output, desired_output):\n",
    "    return (output - desired_output) ** 2"
   ]
  },
  {
   "cell_type": "code",
   "execution_count": 18,
   "id": "9157e949",
   "metadata": {},
   "outputs": [],
   "source": [
    "def weight_sensitivity(desired_output, final_output, front_weight, back_activation, layer_weight, layer_bias):\n",
    "    unactivated = (layer_weight * back_activation) + layer_bias\n",
    "    return 0 if unactivated < 0 else (-2 * (front_weight * back_activation) * (final_output - desired_output))\n",
    "\n",
    "def bias_sensitivity(desired_output, final_output, front_weight):\n",
    "    return (-2 * front_weight * (final_output - desired_output))"
   ]
  },
  {
   "cell_type": "markdown",
   "id": "aecad2c2",
   "metadata": {},
   "source": [
    "desired_output = 5\n",
    "for epoch in range(1000):\n",
    "    for layer in all layers but the last:\n",
    "        forward\n",
    "    \n",
    "    current_output = last layer's final output\n",
    "    for layer in reversed list of layers WITH INDEX:\n",
    "        variables:\n",
    "            w = weight of layer in front of layer (1 if output layer)\n",
    "            a = activation of layer behind current layer\n",
    "        \n",
    "        weight sensitivity = function(output, weight of front layer, activation of back layer, desired output)\n",
    "        bias sensitivity = function(desired output, weight of front layer, output)\n",
    "        \n",
    "        nudge neuron in layer by sensitivities"
   ]
  },
  {
   "cell_type": "code",
   "execution_count": 129,
   "id": "64eb5b9d",
   "metadata": {},
   "outputs": [
    {
     "name": "stdout",
     "output_type": "stream",
     "text": [
      "Layer INPUT | IS 1\n",
      "Neuron 1 | B 1 | B 0.12860185634195398\n",
      "==========================================\n",
      "Layer OUTPUT | IS 1\n",
      "Neuron 1 | B 1 | B -0.56153853558588\n",
      "==========================================\n"
     ]
    },
    {
     "data": {
      "image/png": "[encoded data removed]",
      "text/plain": [
       "<Figure size 432x288 with 1 Axes>"
      ]
     },
     "metadata": {
      "needs_background": "light"
     },
     "output_type": "display_data"
    }
   ],
   "source": [
    "layers = [    \n",
    "    Layer(size=1,\n",
    "         input_size=1,\n",
    "         name='INPUT'),\n",
    "        Layer(size=1,\n",
    "         input_size=1,\n",
    "         name='OUTPUT')\n",
    "]\n",
    "\n",
    "layers[0].inputs = [1]\n",
    "\n",
    "desired_output = 5\n",
    "\n",
    "inputs = []\n",
    "outputs = []\n",
    "for epoch in range(1000):\n",
    "    for i in range(len(layers) - 1):\n",
    "        layers[i].forward(layers[i + 1])\n",
    "    \n",
    "    final_output = layers[-1].output(layers[-1].inputs)[0]\n",
    "    \n",
    "    for layer in layers:\n",
    "        index = layers.index(layer)\n",
    "        weight_front = 1 if index == len(layers) - 1 else layers[index + 1].neurons[0].weights[0]\n",
    "        activation_back = layer.inputs[0] # previous activation becomes inputs, right?\n",
    "        layer_weight = layer.neurons[0].weights[0]\n",
    "        layer_bias = layer.neurons[0].bias\n",
    "        \n",
    "        w_sens = weight_sensitivity(desired_output=desired_output,\n",
    "                                   final_output=final_output,\n",
    "                                    front_weight=weight_front,\n",
    "                                    back_activation=activation_back,\n",
    "                                    layer_weight=layer_weight,\n",
    "                                    layer_bias=layer_bias)\n",
    "        \n",
    "        b_sens = bias_sensitivity(desired_output=desired_output,\n",
    "                                 final_output=final_output,\n",
    "                                 front_weight=weight_front)\n",
    "        \n",
    "        layer.neurons[0].nudge(w_sens * 0.01, b_sens * 0.01)\n",
    "        \n",
    "    inputs.append(epoch)\n",
    "    outputs.append(final_output)\n",
    "    \n",
    "plt.plot(inputs, outputs, 'b')\n",
    "plt.show()"
   ]
  },
  {
   "cell_type": "code",
   "execution_count": 35,
   "id": "a74907ba",
   "metadata": {},
   "outputs": [
    {
     "name": "stdout",
     "output_type": "stream",
     "text": [
      "Layer INPUT | IS 1\n",
      "Neuron 1 | B 1 | B -0.8690269018844627\n",
      "==========================================\n"
     ]
    },
    {
     "ename": "TypeError",
     "evalue": "weight_sensitivity() missing 1 required positional argument: 'layer_bias'",
     "output_type": "error",
     "traceback": [
      "\u001b[1;31m---------------------------------------------------------------------------\u001b[0m",
      "\u001b[1;31mTypeError\u001b[0m                                 Traceback (most recent call last)",
      "Input \u001b[1;32mIn [35]\u001b[0m, in \u001b[0;36m<cell line: 12>\u001b[1;34m()\u001b[0m\n\u001b[0;32m     24\u001b[0m out \u001b[38;5;241m=\u001b[39m layer\u001b[38;5;241m.\u001b[39mneurons[\u001b[38;5;241m0\u001b[39m]\u001b[38;5;241m.\u001b[39moutput([inputs])\n\u001b[0;32m     26\u001b[0m c \u001b[38;5;241m=\u001b[39m cost(out, desired_out)\n\u001b[1;32m---> 27\u001b[0m w_sens \u001b[38;5;241m=\u001b[39m \u001b[43mweight_sensitivity\u001b[49m\u001b[43m(\u001b[49m\u001b[43mout\u001b[49m\u001b[43m,\u001b[49m\u001b[43m \u001b[49m\u001b[43mdesired_out\u001b[49m\u001b[43m,\u001b[49m\u001b[43m \u001b[49m\u001b[43mweight\u001b[49m\u001b[43m,\u001b[49m\u001b[43m \u001b[49m\u001b[43minputs\u001b[49m\u001b[43m,\u001b[49m\u001b[43m \u001b[49m\u001b[43mbias\u001b[49m\u001b[43m)\u001b[49m\n\u001b[0;32m     28\u001b[0m b_sens \u001b[38;5;241m=\u001b[39m bias_sensitivity(out, desired_out, inputs)\n\u001b[0;32m     29\u001b[0m o_sens \u001b[38;5;241m=\u001b[39m prev_output_sensitivity(out, desired_out, inputs, weight)\n",
      "\u001b[1;31mTypeError\u001b[0m: weight_sensitivity() missing 1 required positional argument: 'layer_bias'"
     ]
    }
   ],
   "source": [
    "layers = [    \n",
    "    Layer(size=1,\n",
    "         input_size=1,\n",
    "         name='INPUT')\n",
    "]\n",
    "layers[0].inputs=[1]\n",
    "\n",
    "inps=[]\n",
    "outputs=[]\n",
    "  \n",
    "\n",
    "for x in range(10000):  \n",
    "    for i in range(len(layers) - 1):\n",
    "        layers[i].forward(layers[i + 1])\n",
    "        \n",
    "    for layer in reversed(layers):\n",
    "        if layers.index(layer) == len(layers) - 1:\n",
    "            desired_out = 2\n",
    "        else:\n",
    "            desired_out = (layer.output(layer.inputs)[0] - o_sens) * .01\n",
    "        inputs = layer.inputs[0]\n",
    "        weight = layer.neurons[0].weights[0]\n",
    "        bias = layer.neurons[0].bias\n",
    "        out = layer.neurons[0].output([inputs])\n",
    "        \n",
    "        c = cost(out, desired_out)\n",
    "        w_sens = weight_sensitivity(out, desired_out, weight, inputs, bias)\n",
    "        b_sens = bias_sensitivity(out, desired_out, inputs)\n",
    "        o_sens = prev_output_sensitivity(out, desired_out, inputs, weight)\n",
    "        \n",
    "        layer.nudge(w_sens * .01, b_sens * .01 )\n",
    "    \n",
    "        print(f'Output {out}')\n",
    "        print(f'Cost {c}')\n",
    "        print(f'Weight Sensitivity {w_sens}')\n",
    "        print(f'Bias Sensitivity {b_sens}')\n",
    "        print(f'Previous Output Sensitivity {o_sens}')\n",
    "        print('====================================')\n",
    "    \n",
    "    \n",
    "    \n",
    "    inps.append(x)\n",
    "    outputs.append(layers[-1].output(layers[-1].inputs))    \n",
    "plt.title('Output per Epoch')\n",
    "plt.plot(inps, outputs, 'b')\n",
    "plt.show()"
   ]
  },
  {
   "cell_type": "code",
   "execution_count": null,
   "id": "8611ec25",
   "metadata": {
    "scrolled": true
   },
   "outputs": [],
   "source": [
    "layers = [    \n",
    "    Layer(size=1,\n",
    "         input_size=1,\n",
    "         name='INPUT'),\n",
    "    Layer(size=1,\n",
    "         input_size=1,\n",
    "         name='HIDDEN1'),\n",
    "    Layer(size=1,\n",
    "         input_size=1,\n",
    "         name='OUTPUT')\n",
    "]\n",
    "layers[0].inputs=[1]\n",
    "\n",
    "inps=[]\n",
    "outputs=[]\n",
    "  \n",
    "for x in range(1000):  \n",
    "    for i in range(len(layers) - 1):\n",
    "        layers[i].forward(layers[i + 1])\n",
    "        \n",
    "    for layer in reversed(layers):\n",
    "        if layers.index(layer) == len(layers) - 1:\n",
    "            desired_out = 5\n",
    "        else:\n",
    "            desired_out = (layer.output(layer.inputs)[0] - o_sens) * .001\n",
    "        inputs = layer.inputs[0]\n",
    "        weight = layer.neurons[0].weights[0]\n",
    "        bias = layer.neurons[0].bias\n",
    "        out = layer.neurons[0].output([inputs])\n",
    "        \n",
    "        c = cost(out, desired_out)\n",
    "        w_sens = weight_sensitivity(out, desired_out, weight, inputs, bias)\n",
    "        b_sens = bias_sensitivity(out, desired_out, inputs)\n",
    "        o_sens = prev_output_sensitivity(out, desired_out, inputs, weight)\n",
    "        \n",
    "        layer.nudge(w_sens * .01, b_sens * .01 )\n",
    "    \n",
    "        print(f'{layers.index(layer)}Output {out}')\n",
    "        print(f'Cost {c}')\n",
    "        print(f'Weight Sensitivity {w_sens}')\n",
    "        print(f'Bias Sensitivity {b_sens}')\n",
    "        print(f'Previous Output Sensitivity {o_sens}')\n",
    "        print('====================================')\n",
    "    \n",
    "    \n",
    "    \n",
    "    inps.append(x)\n",
    "    outputs.append(layers[-1].output(layers[-1].inputs))    \n",
    "plt.title('Output per Epoch')\n",
    "plt.plot(inps, outputs, 'b')\n",
    "plt.show()"
   ]
  },
  {
   "cell_type": "code",
   "execution_count": null,
   "id": "7f806543",
   "metadata": {},
   "outputs": [],
   "source": [
    "layers[0].inputs = [9]\n",
    "layers[0].forward(layers[1])\n",
    "layers[1].forward(layers[2])\n",
    "print(layers[2].output(layers[2].inputs))"
   ]
  }
 ],
 "metadata": {
  "kernelspec": {
   "display_name": "Python 3 (ipykernel)",
   "language": "python",
   "name": "python3"
  },
  "language_info": {
   "codemirror_mode": {
    "name": "ipython",
    "version": 3
   },
   "file_extension": ".py",
   "mimetype": "text/x-python",
   "name": "python",
   "nbconvert_exporter": "python",
   "pygments_lexer": "ipython3",
   "version": "3.9.12"
  }
 },
 "nbformat": 4,
 "nbformat_minor": 5
}
