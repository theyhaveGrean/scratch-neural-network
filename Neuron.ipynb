{
 "cells": [
  {
   "cell_type": "code",
   "execution_count": 14,
   "id": "ed763c85",
   "metadata": {},
   "outputs": [],
   "source": [
    "class Neuron: \n",
    "    def __init__(self, inputs, weights, bias):\n",
    "        self.inputs = inputs\n",
    "        self.weights = weights\n",
    "        self.bias = bias\n",
    "        \n",
    "        self.output()\n",
    "\n",
    "    def output(self):\n",
    "        output = 0\n",
    "        for inp, weight in zip(self.inputs, self.weights):\n",
    "            output += inp * weight\n",
    "\n",
    "        output += self.bias\n",
    "        \n",
    "        self.output = output"
   ]
  }
 ],
 "metadata": {
  "kernelspec": {
   "display_name": "Python 3 (ipykernel)",
   "language": "python",
   "name": "python3"
  },
  "language_info": {
   "codemirror_mode": {
    "name": "ipython",
    "version": 3
   },
   "file_extension": ".py",
   "mimetype": "text/x-python",
   "name": "python",
   "nbconvert_exporter": "python",
   "pygments_lexer": "ipython3",
   "version": "3.9.12"
  }
 },
 "nbformat": 4,
 "nbformat_minor": 5
}
