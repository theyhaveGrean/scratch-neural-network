{
 "cells": [
  {
   "cell_type": "code",
   "execution_count": 12,
   "id": "fff111dc",
   "metadata": {},
   "outputs": [],
   "source": [
    "import matplotlib.pyplot as plt\n",
    "import numpy as np"
   ]
  },
  {
   "cell_type": "code",
   "execution_count": 57,
   "id": "e25ac6f0",
   "metadata": {},
   "outputs": [],
   "source": [
    "# coordinates = [(1, 1), (2,2), (3,3), (4,4), (5,5)]\n",
    "# returns best fit slope, intercept when passed a list of coordinates\n",
    "def line_fit(coordinates):\n",
    "    x_avg = sum(coord[0] for coord in coordinates) / len(coordinates)\n",
    "    y_avg = sum(coord[1] for coord in coordinates) / len(coordinates)\n",
    "    \n",
    "    numerator = sum(((coord[0] - x_avg) * (coord[1] - y_avg)) for coord in coordinates)\n",
    "    divisor = sum(((coord[0] - x_avg) ** 2) for coord in coordinates)\n",
    "    \n",
    "    slope = numerator / divisor\n",
    "    intercept = y_avg - (x_avg * slope)\n",
    "    \n",
    "    return slope, intercept"
   ]
  },
  {
   "cell_type": "code",
   "execution_count": 61,
   "id": "f817203f",
   "metadata": {},
   "outputs": [
    {
     "data": {
      "image/png": "[encoded data removed]",
      "text/plain": [
       "<Figure size 432x288 with 1 Axes>"
      ]
     },
     "metadata": {
      "needs_background": "light"
     },
     "output_type": "display_data"
    }
   ],
   "source": [
    "x, y = np.array(coordinates).T\n",
    "x_l = np.linspace(0, 5, 100)\n",
    "y_l = slope * x_l + intercept\n",
    "\n",
    "plt.plot(x, y, 'rd')\n",
    "plt.plot(x_l, y_l, 'b')\n",
    "plt.grid()\n",
    "plt.show()"
   ]
  }
 ],
 "metadata": {
  "kernelspec": {
   "display_name": "Python 3 (ipykernel)",
   "language": "python",
   "name": "python3"
  },
  "language_info": {
   "codemirror_mode": {
    "name": "ipython",
    "version": 3
   },
   "file_extension": ".py",
   "mimetype": "text/x-python",
   "name": "python",
   "nbconvert_exporter": "python",
   "pygments_lexer": "ipython3",
   "version": "3.9.12"
  }
 },
 "nbformat": 4,
 "nbformat_minor": 5
}
